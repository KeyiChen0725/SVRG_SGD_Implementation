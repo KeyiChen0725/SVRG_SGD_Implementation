{
 "cells": [
  {
   "cell_type": "code",
   "execution_count": 15,
   "metadata": {},
   "outputs": [],
   "source": [
    "import numpy as np\n",
    "import random\n",
    "import scipy\n",
    "from scipy import sparse\n",
    "import theano\n",
    "import pandas as pd\n",
    "import theano.tensor as T\n",
    "import matplotlib.pyplot as plt"
   ]
  },
  {
   "cell_type": "code",
   "execution_count": 2,
   "metadata": {},
   "outputs": [],
   "source": [
    "# data = pd.read_csv('/Users/chenkeyi/Downloads/mnist_train_100.csv')\n",
    "# data.head()\n",
    "# type(data)\n",
    "\n",
    "# #get the training data\n",
    "# data = pd.DataFrame.as_matrix(data)\n",
    "# y = data[:,0]\n",
    "# A = data[:,1:]"
   ]
  },
  {
   "cell_type": "code",
   "execution_count": 6,
   "metadata": {},
   "outputs": [],
   "source": [
    "def svrg(grad, init_step_size, n, d, max_epoch=100, m=0, x0=None, func=None,\n",
    "            verbose=True):\n",
    "    \"\"\"\n",
    "        SVRG for solving finite-sum problems\n",
    "        grad: gradient function in the form of grad(x, idx), where idx is a list of induces\n",
    "        init_step_size: initial step size\n",
    "        n, d: size of the problem\n",
    "        func: the full function, f(x) returning the function value at x\n",
    "    \"\"\"\n",
    "    if not isinstance(m, int) or m <= 0:\n",
    "        m = n\n",
    "        if verbose:\n",
    "            print('Info: set m=n by default')\n",
    "\n",
    "    if x0 is None:\n",
    "        x = np.zeros(d)\n",
    "    elif isinstance(x0, np.ndarray) and x0.shape == (d, ):\n",
    "        x = x0.copy()\n",
    "    else:\n",
    "        raise ValueError('x0 must be a numpy array of size (d, )')\n",
    "        \n",
    "\n",
    "    step_size = init_step_size   \n",
    "    func_value = []\n",
    "    for k in range(max_epoch):\n",
    "        full_grad = grad(x, range(n))\n",
    "        x_tilde = x.copy()\n",
    "        if verbose:\n",
    "            \n",
    "            output = 'Epoch.: %d, Step size: %.2e, Grad. norm: %.2e' % \\\n",
    "                     (k, step_size, np.linalg.norm(full_grad))\n",
    "            if func is not None:\n",
    "                output += ', Func. value: %e' % func(x)\n",
    "        \n",
    "        for i in range(m):\n",
    "            idx = (random.randrange(n), )\n",
    "            x -= step_size * (grad(x, idx) - grad(x_tilde, idx) + full_grad)\n",
    "            func_value.append(func(x))\n",
    "    return x, func_value\n",
    "\n",
    "\n"
   ]
  },
  {
   "cell_type": "code",
   "execution_count": 7,
   "metadata": {},
   "outputs": [],
   "source": [
    "def sgd(grad, init_step_size, n, d, max_epoch=300, x0=None, \n",
    "           func=None, verbose=True):\n",
    "    \"\"\"\n",
    "        grad: gradient function in the form of grad(x, idx), where idx is a list of induces\n",
    "        init_step_size: initial step size\n",
    "        n, d: size of the problem\n",
    "        func: the full function, f(x) returning the function value at x\n",
    "    \"\"\"\n",
    "    if x0 is None:\n",
    "        x = np.zeros(d)\n",
    "    elif isinstance(x0, np.ndarray) and x0.shape == (d, ):\n",
    "        x = x0.copy()\n",
    "    else:\n",
    "        raise ValueError('x0 must be a numpy array of size (d, )')\n",
    "\n",
    "        \n",
    "    step_size = init_step_size\n",
    "    func_value = [] \n",
    "    for i in range(max_epoch):\n",
    "        if verbose:\n",
    "            full_grad = grad(x, range(n))\n",
    "            output = 'Epoch.: %d, Step size: %.2e, Grad. norm: %.2e' % \\\n",
    "                     (i, step_size, np.linalg.norm(full_grad))\n",
    "            if func is not None:                \n",
    "                output += ', Func. value: %e' % func(x) \n",
    "            \n",
    "        idx = (random.randrange(n), )\n",
    "        g = grad(x, idx)\n",
    "        x -= step_size * g\n",
    "        func_value.append(func(x))\n",
    "            \n",
    "\n",
    "\n",
    "\n",
    "    return x, func_value \n",
    "\n"
   ]
  },
  {
   "cell_type": "code",
   "execution_count": 8,
   "metadata": {},
   "outputs": [],
   "source": [
    "\n",
    "if __name__ == '__main__':\n",
    "    \n",
    "     # problem size\n",
    "    n, d = 1000, 100\n",
    "\n",
    "    # randomly generate training data\n",
    "    A = np.random.randn(n, d)\n",
    "    x_true = np.random.randn(d)\n",
    "    y = np.sign(np.dot(A, x_true) + 0.1 * np.random.randn(n))\n",
    "\n",
    "    # generate test data\n",
    "    A_test = np.random.randn(n, d)\n",
    "    y_test = np.sign(np.dot(A_test, x_true))\n",
    "\n",
    "\n",
    "    # preprocess data\n",
    "    tmp = scipy.sparse.lil_matrix((n, n))\n",
    "    tmp.setdiag(y)\n",
    "    data = theano.shared(tmp * A)\n",
    "    # define objective function and gradient via Theano\n",
    "    l2 = 1e-3\n",
    "    par = T.vector()\n",
    "    \n",
    "    loss = T.log(1 + T.exp(-T.dot(data, par))).mean() + l2 / 2 * (par ** 2).sum()\n",
    "    func = theano.function(inputs=[par], outputs=loss)\n",
    "\n",
    "    idx = T.ivector()    \n",
    "    grad = theano.function(inputs=[par, idx],outputs= T.grad(loss,par),givens={data: data[idx, :]})\n",
    "\n"
   ]
  },
  {
   "cell_type": "code",
   "execution_count": 6,
   "metadata": {},
   "outputs": [],
   "source": [
    "# # test SVRG\n",
    "# x0 = np.random.rand(d)\n",
    "# print('Begin to run SVRG-BB:')\n",
    "# x = svrg(grad, 1e-3, n, d, func=func, max_epoch=50)\n",
    "# y_predict = np.sign(np.dot(A_test, x))\n",
    "# print('Test accuracy: %f' % (np.count_nonzero(y_test == y_predict)*1.0 / n))"
   ]
  },
  {
   "cell_type": "code",
   "execution_count": 7,
   "metadata": {},
   "outputs": [],
   "source": [
    "# # test SGD\n",
    "# print('\\nBegin to run SGD-BB:')    \n",
    "# x = sgd(grad, 1e-3, n, d, func=func, max_epoch=50)\n",
    "# y_predict = np.sign(np.dot(A_test, x))\n",
    "# print('Test accuracy: %f' % (np.count_nonzero(y_test == y_predict)*1.0 / n))"
   ]
  },
  {
   "cell_type": "code",
   "execution_count": 11,
   "metadata": {},
   "outputs": [
    {
     "name": "stdout",
     "output_type": "stream",
     "text": [
      "\n",
      "Begin to run SGD-BB:\n",
      "Test accuracy: 0.876000\n"
     ]
    }
   ],
   "source": [
    "# SGD \n",
    "print('\\nBegin to run SGD:') \n",
    "sgd_result = sgd(grad, 0.05, n, d, func=func, max_epoch=1000) \n",
    "x = sgd_result[0] \n",
    "f_value = sgd_result[1]\n",
    "\n",
    "y_predict = np.sign(np.dot(A_test, x))\n",
    "print('Test accuracy: %f' % (np.count_nonzero(y_test == y_predict)*1.0 / n))"
   ]
  },
  {
   "cell_type": "code",
   "execution_count": 12,
   "metadata": {},
   "outputs": [
    {
     "data": {
      "text/plain": [
       "[<matplotlib.lines.Line2D at 0x10e3630f0>]"
      ]
     },
     "execution_count": 12,
     "metadata": {},
     "output_type": "execute_result"
    },
    {
     "data": {
      "image/png": "[encoded data removed]",
      "text/plain": [
       "<Figure size 432x288 with 1 Axes>"
      ]
     },
     "metadata": {},
     "output_type": "display_data"
    }
   ],
   "source": [
    "plt.title('SGD with learning rate 0.05')\n",
    "plt.plot(f_value)"
   ]
  },
  {
   "cell_type": "code",
   "execution_count": 13,
   "metadata": {},
   "outputs": [
    {
     "name": "stdout",
     "output_type": "stream",
     "text": [
      "Begin to run SVRG-BB:\n",
      "Info: set m=n by default\n",
      "Test accuracy: 0.957000\n"
     ]
    }
   ],
   "source": [
    "# Svrg\n",
    "x0 = np.random.rand(d)\n",
    "print('Begin to run SVRG-BB:')\n",
    "svrg_result = svrg(grad, 0.05, n, d, func=func, max_epoch=50)\n",
    "\n",
    "x = svrg_result[0]\n",
    "f2_value = svrg_result[1]\n",
    "\n",
    "y_predict = np.sign(np.dot(A_test, x))\n",
    "print('Test accuracy: %f' % (np.count_nonzero(y_test == y_predict)*1.0 / n))"
   ]
  },
  {
   "cell_type": "code",
   "execution_count": 14,
   "metadata": {},
   "outputs": [
    {
     "data": {
      "text/plain": [
       "[<matplotlib.lines.Line2D at 0x10e8e10f0>]"
      ]
     },
     "execution_count": 14,
     "metadata": {},
     "output_type": "execute_result"
    },
    {
     "data": {
      "image/png": "[encoded data removed]",
      "text/plain": [
       "<Figure size 432x288 with 1 Axes>"
      ]
     },
     "metadata": {},
     "output_type": "display_data"
    }
   ],
   "source": [
    "plt.title('SVRG with learning rate 0.05')\n",
    "plt.plot(f2_value)"
   ]
  },
  {
   "cell_type": "code",
   "execution_count": null,
   "metadata": {},
   "outputs": [],
   "source": []
  },
  {
   "cell_type": "code",
   "execution_count": null,
   "metadata": {},
   "outputs": [],
   "source": []
  },
  {
   "cell_type": "code",
   "execution_count": null,
   "metadata": {},
   "outputs": [],
   "source": []
  }
 ],
 "metadata": {
  "kernelspec": {
   "display_name": "Python 3",
   "language": "python",
   "name": "python3"
  },
  "language_info": {
   "codemirror_mode": {
    "name": "ipython",
    "version": 3
   },
   "file_extension": ".py",
   "mimetype": "text/x-python",
   "name": "python",
   "nbconvert_exporter": "python",
   "pygments_lexer": "ipython3",
   "version": "3.6.5"
  }
 },
 "nbformat": 4,
 "nbformat_minor": 2
}
